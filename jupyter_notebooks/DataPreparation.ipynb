{
 "cells": [
  {
   "cell_type": "markdown",
   "metadata": {},
   "source": [
    "# Data Preperation"
   ]
  },
  {
   "cell_type": "code",
   "execution_count": 9,
   "metadata": {},
   "outputs": [],
   "source": [
    "import os\n",
    "import shutil\n",
    "import random\n",
    "from PIL import Image\n",
    "import matplotlib.pyplot as plt"
   ]
  },
  {
   "cell_type": "code",
   "execution_count": 10,
   "metadata": {},
   "outputs": [],
   "source": [
    "# * Check and Remove non-image files\n",
    "\n",
    "my_data_dir = '/workspaces/new-cherry-leaves/data/cherry-leaves'  \n",
    "\n",
    "\n",
    "def remove_non_image_file(my_data_dir):\n",
    "    \"\"\"\n",
    "    Removes non-image files from the specified directory and counts image/non-image files.\n",
    "\n",
    "    Args:\n",
    "        my_data_dir (str): Path to the directory containing the image files.\n",
    "    \"\"\"\n",
    "\n",
    "image_extensions = ('.png', '.jpg', '.jpeg')"
   ]
  },
  {
   "cell_type": "code",
   "execution_count": 11,
   "metadata": {},
   "outputs": [
    {
     "name": "stdout",
     "output_type": "stream",
     "text": [
      "Folder: healthy - has image file: 2104\n",
      "Folder: healthy - has non-image file: 0\n",
      "Folder: powdery_mildew - has image file: 2104\n",
      "Folder: powdery_mildew - has non-image file: 0\n"
     ]
    }
   ],
   "source": [
    "# Iterate through the healthy and powdery_mildew subfolders\n",
    "for folder_name in ['healthy', 'powdery_mildew']:\n",
    "    folder_path = os.path.join(my_data_dir, folder_name)\n",
    "    if os.path.isdir(folder_path):\n",
    "        files = os.listdir(folder_path)\n",
    "        image_count = 0\n",
    "        non_image_count = 0\n",
    "        for file in files:\n",
    "            file_path = os.path.join(folder_path, file)\n",
    "            if os.path.isfile(file_path):\n",
    "                if file.lower().endswith(image_extensions):\n",
    "                    image_count += 1\n",
    "                else:\n",
    "                    os.remove(file_path)\n",
    "                    non_image_count += 1\n",
    "                    print(f\"Removed non-image file: {file_path}\")\n",
    "\n",
    "        # Print the counts for the current folder\n",
    "        print(f\"Folder: {folder_name} - has image file: {image_count}\")\n",
    "        print(f\"Folder: {folder_name} - has non-image file: {non_image_count}\")"
   ]
  },
  {
   "cell_type": "code",
   "execution_count": 12,
   "metadata": {},
   "outputs": [],
   "source": [
    "# Check for corrupted images\n",
    "def check_for_corrupted_images(my_data_dir):\n",
    "    \"\"\"\n",
    "    Checks for corrupted images in the specified directory and logs the results.\n",
    "\n",
    "    Args:\n",
    "        my_data_dir (str): Path to the directory containing the image files.\n",
    "    \"\"\"\n",
    "\n",
    "    corrupted_files = []\n",
    "    print(\"Checking for corrupted images...\")\n",
    "    for root, _, files in os.walk(my_data_dir):\n",
    "        for file in files:\n",
    "            file_path = os.path.join(root, file)\n",
    "            try:\n",
    "                with Image.open(file_path) as img:\n",
    "                    img.verify()\n",
    "            except (FileNotFoundError, OSError):\n",
    "                corrupted_files.append(file_path)\n",
    "\n",
    "    if corrupted_files:\n",
    "        print(\"Corrupted files detected:\")\n",
    "        for file in corrupted_files:\n",
    "            print(file)\n",
    "    else:\n",
    "        print(\"No corrupted files found.\")\n",
    "\n",
    "    with open(\"corrupted_files_log.txt\", \"w\") as log_file:\n",
    "        if corrupted_files:\n",
    "            log_file.write(\"Corrupted files:\\n\")\n",
    "            log_file.writelines([f\"{file}\\n\" for file in corrupted_files])\n",
    "\n",
    "    print(\"Check completed. Results logged to corrupted_files_log.txt\")"
   ]
  },
  {
   "cell_type": "code",
   "execution_count": 13,
   "metadata": {},
   "outputs": [],
   "source": [
    "\n",
    "# Split data into train, validation and test sets\n",
    "def split_train_validation_test_images(my_data_dir, train_set_ratio, validation_set_ratio, test_set_ratio):\n",
    "    \"\"\"\n",
    "    Split the dataset of images into train, validation, and test sets.\n",
    "\n",
    "    Args:\n",
    "        my_data_dir (str): Path to the dataset directory containing class folders.\n",
    "        train_set_ratio (float): Proportion of data to be used for training.\n",
    "        validation_set_ratio (float): Proportion of data to be used for validation.\n",
    "        test_set_ratio (float): Proportion of data to be used for testing.\n",
    "\n",
    "    Returns:\n",
    "        None\n",
    "    \"\"\"\n",
    "\n",
    "    if not abs(train_set_ratio + validation_set_ratio + test_set_ratio - 1.0) < 1e-6:\n",
    "        raise ValueError(\"train_set_ratio, validation_set_ratio, and test_set_ratio should sum to 1.0.\")\n",
    "\n",
    "    labels = [label for label in os.listdir(my_data_dir) if os.path.isdir(os.path.join(my_data_dir, label))]\n",
    "\n",
    "    for folder in ['train', 'validation', 'test']:\n",
    "        if not os.path.exists(os.path.join(my_data_dir, folder)):\n",
    "            for label in labels:\n",
    "                os.makedirs(os.path.join(my_data_dir, folder, label), exist_ok=True)\n",
    "\n",
    "    for label in labels:\n",
    "        class_dir = os.path.join(my_data_dir, label)\n",
    "        files = [file for file in os.listdir(class_dir) if os.path.isfile(os.path.join(class_dir, file))]\n",
    "        random.shuffle(files)\n",
    "\n",
    "        train_count = int(len(files) * train_set_ratio)\n",
    "        val_count = int(len(files) * validation_set_ratio)\n",
    "\n",
    "        train_files = files[:train_count]\n",
    "        val_files = files[train_count:train_count + val_count]\n",
    "        test_files = files[train_count + val_count:]\n",
    "\n",
    "        for file in train_files:\n",
    "            shutil.move(os.path.join(class_dir, file), os.path.join(my_data_dir, 'train', label, file))\n",
    "\n",
    "        for file in val_files:\n",
    "            shutil.move(os.path.join(class_dir, file), os.path.join(my_data_dir, 'validation', label, file))\n",
    "\n",
    "        for file in test_files:\n",
    "            shutil.move(os.path.join(class_dir, file), os.path.join(my_data_dir, 'test', label, file))\n",
    "\n",
    "        if not os.listdir(class_dir):\n",
    "            os.rmdir(class_dir)\n",
    "\n",
    "    print(\"Data successfully split into train, validation, and test sets.\")"
   ]
  },
  {
   "cell_type": "code",
   "execution_count": 14,
   "metadata": {},
   "outputs": [],
   "source": [
    "# Verify the class balance in the training set\n",
    "def verify_class_balance(train_dir):\n",
    "    \"\"\"\n",
    "    Verifies the class balance in the training set.\n",
    "\n",
    "    Args:\n",
    "        train_dir (str): Path to the training set directory.\n",
    "    \"\"\"\n",
    "\n",
    "    train_classes = os.listdir(train_dir)\n",
    "    train_class_counts = {cls: len(os.listdir(os.path.join(train_dir, cls))) for cls in train_classes}\n",
    "    print(\"Training Set Class Distribution:\", train_class_counts)\n"
   ]
  },
  {
   "cell_type": "code",
   "execution_count": 15,
   "metadata": {},
   "outputs": [],
   "source": [
    "# Visualise Class Distribution\n",
    "def visualize_class_distribution(class_counts, title):\n",
    "    \"\"\"\n",
    "    Visualizes the class distribution using a bar chart.\n",
    "\n",
    "    Args:\n",
    "        class_counts (dict): Dictionary containing class names as keys and image counts as values.\n",
    "        title (str): Title of the chart.\n",
    "    \"\"\"\n",
    "\n",
    "    plt.bar(class_counts.keys(), class_counts.values(), color=['green', 'red'])\n",
    "    plt.title(title)\n",
    "    plt.xlabel('Classes')\n",
    "    plt.ylabel('Number of Images')\n",
    "    plt.show()"
   ]
  },
  {
   "cell_type": "code",
   "execution_count": 16,
   "metadata": {},
   "outputs": [
    {
     "name": "stdout",
     "output_type": "stream",
     "text": [
      "Checking for corrupted images...\n",
      "No corrupted files found.\n",
      "Check completed. Results logged to corrupted_files_log.txt\n",
      "Data successfully split into train, validation, and test sets.\n",
      "Training Set Class Distribution: {'powdery_mildew': 1262, 'healthy': 1262}\n"
     ]
    },
    {
     "data": {
      "image/png": "[encoded data removed]",
      "text/plain": [
       "<Figure size 640x480 with 1 Axes>"
      ]
     },
     "metadata": {},
     "output_type": "display_data"
    },
    {
     "name": "stdout",
     "output_type": "stream",
     "text": [
      "Validation Set Class Distribution: {'powdery_mildew': 420, 'healthy': 420}\n"
     ]
    },
    {
     "data": {
      "image/png": "[encoded data removed]",
      "text/plain": [
       "<Figure size 640x480 with 1 Axes>"
      ]
     },
     "metadata": {},
     "output_type": "display_data"
    }
   ],
   "source": [
    "# Main execution block\n",
    "if __name__ == \"__main__\":\n",
    "    # Define the dataset directory\n",
    "    my_data_dir = '/workspaces/new-cherry-leaves/data/cherry-leaves'\n",
    "\n",
    "    # Remove non-image files\n",
    "    remove_non_image_file(my_data_dir)\n",
    "\n",
    "    # Check for corrupted images\n",
    "    check_for_corrupted_images(my_data_dir)\n",
    "\n",
    "    # Split data into train, validation, and test sets (adjust ratios as needed)\n",
    "    split_train_validation_test_images(my_data_dir, train_set_ratio=0.6, validation_set_ratio=0.2, test_set_ratio=0.2)\n",
    "\n",
    "    # Verify the class balance in the training set\n",
    "    train_dir = os.path.join(my_data_dir, 'train')\n",
    "    verify_class_balance(train_dir)\n",
    "\n",
    "    # Visualize class distribution for training set\n",
    "    train_classes = os.listdir(train_dir)\n",
    "    train_class_counts = {cls: len(os.listdir(os.path.join(train_dir, cls))) for cls in train_classes}\n",
    "    visualize_class_distribution(train_class_counts, 'Training Set Class Distribution')\n",
    "\n",
    "    # Verify the class balance in the validation set\n",
    "    validation_dir = os.path.join(my_data_dir, 'validation')\n",
    "    validation_classes = os.listdir(validation_dir)\n",
    "    validation_class_counts = {cls: len(os.listdir(os.path.join(validation_dir, cls))) for cls in validation_classes}\n",
    "    print(\"Validation Set Class Distribution:\", validation_class_counts)\n",
    "\n",
    "    # Visualize class distribution for validation set (optional)\n",
    "    visualize_class_distribution(validation_class_counts, 'Validation Set Class Distribution')"
   ]
  }
 ],
 "metadata": {
  "kernelspec": {
   "display_name": ".venv",
   "language": "python",
   "name": "python3"
  },
  "language_info": {
   "codemirror_mode": {
    "name": "ipython",
    "version": 3
   },
   "file_extension": ".py",
   "mimetype": "text/x-python",
   "name": "python",
   "nbconvert_exporter": "python",
   "pygments_lexer": "ipython3",
   "version": "3.12.1"
  }
 },
 "nbformat": 4,
 "nbformat_minor": 2
}
